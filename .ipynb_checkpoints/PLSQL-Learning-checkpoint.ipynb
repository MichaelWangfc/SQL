{
 "cells": [
  {
   "cell_type": "code",
   "execution_count": null,
   "metadata": {
    "collapsed": true
   },
   "outputs": [],
   "source": []
  },
  {
   "cell_type": "markdown",
   "metadata": {},
   "source": [
    " **Goal**\n",
    " \n",
    "    PLSQL语言操作 Oracle数据库的时候，相对于其他语言（如Java/python/C++）都要效率高"
   ]
  },
  {
   "cell_type": "markdown",
   "metadata": {},
   "source": [
    "### 命令窗口"
   ]
  },
  {
   "cell_type": "markdown",
   "metadata": {},
   "source": [
    "命令窗口允许你运行 SQL 脚本，这与 Oracle 的 SQL*Plus 很相似。要创建命令窗口，请按下\n",
    "工具栏中的新建按钮或在文件菜单中选择新建项目。不用离开 PL/SQL Developer 的 IDE， 就\n",
    "可以创建一个命令窗口，你可以像过去一样键入 SQL 语句或 SQL*Plus 命令："
   ]
  },
  {
   "cell_type": "code",
   "execution_count": null,
   "metadata": {
    "collapsed": true
   },
   "outputs": [],
   "source": [
    "#### Hello world\n",
    "\n",
    "#打开SQL输出开关\n",
    "set serveroutput on\n",
    "\n",
    "#编写程序\n",
    "#首先声明:变量、光标或者例外\n",
    "#若没有需要声明的部分，可以不写\n",
    "declare\n",
    "\n",
    "#程序以begin 开始\n",
    "begin\n",
    "\n",
    "#程序体\n",
    "    dbms_ouput.put_line('Hello world')\n",
    "\n",
    "#总是以 end+ 分号 结束\n",
    "end;\n",
    "\n",
    "# 右斜线/表示退出编辑环境，并执行plsql程序\n",
    "/"
   ]
  },
  {
   "cell_type": "markdown",
   "metadata": {},
   "source": [
    "## PL/SQL Developer 图形化工具"
   ]
  },
  {
   "cell_type": "code",
   "execution_count": null,
   "metadata": {
    "collapsed": true
   },
   "outputs": [],
   "source": []
  },
  {
   "cell_type": "markdown",
   "metadata": {},
   "source": [
    "# 查询语句\n"
   ]
  },
  {
   "cell_type": "markdown",
   "metadata": {},
   "source": [
    "### SELECT 语句\n",
    "SQL SELECT 语句用于从数据库的表中取回所需的数据，并以表的形式返回。返回的表被称作结果集。"
   ]
  },
  {
   "cell_type": "code",
   "execution_count": null,
   "metadata": {
    "collapsed": true
   },
   "outputs": [],
   "source": [
    "# SELECT 语句的基本语法如下：\n",
    "SELECT column1, column2, columnN FROM table_name;\n",
    "\n",
    "#如果要取回表中所有字段的话，可以使用下面的语法：\n",
    "SELECT * FROM table_name;\n"
   ]
  },
  {
   "cell_type": "markdown",
   "metadata": {},
   "source": [
    "### WHERE 子句\n",
    "SQL WHERE 子句用于有条件地从单个表中取回数据或者将多个表进行合并。\n",
    "\n",
    "如果条件满足，则查询只返回表中满足条件的值。你可以用 WHERE 子句来过滤查询结果，只获取必要的记录。\n",
    "\n",
    "WHERE 子句不仅可以用于 SELECT 语句，还可以用于 UPDATE、DELETE 等语句，其用法见后面的章节。"
   ]
  }
 ],
 "metadata": {
  "kernelspec": {
   "display_name": "Python [conda env:python27]",
   "language": "python",
   "name": "conda-env-python27-py"
  },
  "language_info": {
   "codemirror_mode": {
    "name": "ipython",
    "version": 2
   },
   "file_extension": ".py",
   "mimetype": "text/x-python",
   "name": "python",
   "nbconvert_exporter": "python",
   "pygments_lexer": "ipython2",
   "version": "2.7.13"
  }
 },
 "nbformat": 4,
 "nbformat_minor": 2
}
